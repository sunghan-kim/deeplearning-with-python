{
 "cells": [
  {
   "cell_type": "markdown",
   "metadata": {},
   "source": [
    "# 2. 신경망의 수학적 구성 요소"
   ]
  },
  {
   "cell_type": "markdown",
   "metadata": {},
   "source": [
    "## 2.2 신경망을 위한 데이터 표현"
   ]
  },
  {
   "cell_type": "markdown",
   "metadata": {},
   "source": [
    "<br>"
   ]
  },
  {
   "cell_type": "markdown",
   "metadata": {},
   "source": [
    "**텐서(tensor)**\n",
    "\n",
    "- 머신 러닝의 기본 구성 요소\n",
    "- 데이터를 위한 컨테이너(container)\n",
    "- 숫자를 위한 컨테이너 (거의 항상 수치형 데이터를 다룸)\n",
    "- ex) 행렬 = 2D 텐서\n",
    "- 텐서는 **임의의 차원 개수를 가지는 행렬의 일반화된 모습**\n",
    "- 텐서에서는 **차원(dimension)을 축(axis)**이라고 부름"
   ]
  },
  {
   "cell_type": "markdown",
   "metadata": {},
   "source": [
    "<br>"
   ]
  },
  {
   "cell_type": "markdown",
   "metadata": {},
   "source": [
    "### 2.2.1 스칼라 (0D 텐서)\n",
    "\n",
    "**스칼라(scalar)**\n",
    "- 하나의 숫자만 담고 있는 텐서\n",
    "- 스칼라 텐서, 0차원 텐서, 0D 텐서 라고도 불림\n",
    "  \n",
    "\n",
    "- `ndim` 속성을 사용하면 넘파이 배열의 축 개수를 확인할 수 있다.\n",
    "- 스칼라 텐서의 축 개수 = 0 (`ndim == 0`)  \n",
    "  \n",
    "  \n",
    "**랭크(rank)**\n",
    "\n",
    "- 텐서의 축 개수"
   ]
  },
  {
   "cell_type": "code",
   "execution_count": 1,
   "metadata": {},
   "outputs": [
    {
     "name": "stdout",
     "output_type": "stream",
     "text": [
      "12\n",
      "0\n"
     ]
    }
   ],
   "source": [
    "import numpy as np\n",
    "x = np.array(12)\n",
    "print(x)\n",
    "print(x.ndim)"
   ]
  },
  {
   "cell_type": "markdown",
   "metadata": {},
   "source": [
    "<br>"
   ]
  },
  {
   "cell_type": "markdown",
   "metadata": {},
   "source": [
    "### 2.2.2 벡터 (1D 텐서)\n",
    "\n",
    "**벡터 (vector)**\n",
    "- 숫자의 배열\n",
    "- 1D 텐서라고도 부름  \n",
    "  \n",
    "  \n",
    "- 1D 텐서는 딱 하나의 축을 갖는다."
   ]
  },
  {
   "cell_type": "code",
   "execution_count": 2,
   "metadata": {},
   "outputs": [
    {
     "name": "stdout",
     "output_type": "stream",
     "text": [
      "[12  3  6 14  7]\n",
      "1\n"
     ]
    }
   ],
   "source": [
    "x = np.array([12, 3, 6, 14, 7]) # x : 5개의 원소를 가지는 5차원 벡터\n",
    "print(x)\n",
    "print(x.ndim)"
   ]
  },
  {
   "cell_type": "markdown",
   "metadata": {},
   "source": [
    "<br>"
   ]
  },
  {
   "cell_type": "markdown",
   "metadata": {},
   "source": [
    "**5D 벡터 vs 5D 텐서**\n",
    "\n",
    "- 5D 벡터 : 하나의 축을 따라 5개의 차원을 가진 것\n",
    "- 5D 텐서 : 5개의 축을 가진 것 (텐서의 각 축을 따라 여러 개의 차원을 가진 벡터가 놓일 수 있다.)"
   ]
  },
  {
   "cell_type": "markdown",
   "metadata": {},
   "source": [
    "<br>"
   ]
  },
  {
   "cell_type": "markdown",
   "metadata": {},
   "source": [
    "**차원수(dimensionality)**\n",
    "\n",
    "- 특정 축을 따라 놓인 원소의 개수 (5D 벡터와 같은 경우)\n",
    "- 텐서의 축 개수 (5D 텐서와 같은 경우) $\\Rightarrow$ 랭크 5인 텐서 (텐서의 랭크 = 축의 개수)"
   ]
  },
  {
   "cell_type": "markdown",
   "metadata": {},
   "source": [
    "<br>"
   ]
  },
  {
   "cell_type": "markdown",
   "metadata": {},
   "source": [
    "### 2.2.3 행렬 (2D 텐서)"
   ]
  },
  {
   "cell_type": "markdown",
   "metadata": {},
   "source": [
    "**행렬 (matrix)**\n",
    "\n",
    "- 벡터의 배열\n",
    "- 2D 텐서  \n",
    "  \n",
    "  \n",
    "- 행렬에는 2개의 축이 있다. (행(row)과 열(column))"
   ]
  },
  {
   "cell_type": "code",
   "execution_count": 3,
   "metadata": {},
   "outputs": [
    {
     "data": {
      "text/plain": [
       "2"
      ]
     },
     "execution_count": 3,
     "metadata": {},
     "output_type": "execute_result"
    }
   ],
   "source": [
    "x = np.array([[5, 78, 2, 34, 0],\n",
    "              [6, 79, 3, 35, 1],\n",
    "              [7, 80, 4, 36, 2]])\n",
    "\n",
    "x.ndim"
   ]
  },
  {
   "cell_type": "markdown",
   "metadata": {},
   "source": [
    "**행(row)**\n",
    "\n",
    "- 첫 번째 축에 놓여 있는 원소\n",
    "- 위의 `x`에서 첫 번째 행 : `[5, 78, 2, 34, 0]`"
   ]
  },
  {
   "cell_type": "markdown",
   "metadata": {},
   "source": [
    "**열(column)**\n",
    "\n",
    "- 두 번째 축에 놓여 있는 원소\n",
    "- 위의 `x`에서 첫 번째 열 : `[5, 6, 7]`"
   ]
  },
  {
   "cell_type": "markdown",
   "metadata": {},
   "source": [
    "<br>"
   ]
  },
  {
   "cell_type": "markdown",
   "metadata": {},
   "source": [
    "### 2.2.4 3D 텐서와 고차원 텐서\n",
    "\n",
    "**3D 텐서**\n",
    "\n",
    "- 2D 텐서인 행렬들을 하나의 새로운 배열로 합치면 숫자가 채워진 직육면체 형태로 해석할 수 있는 3D 텐서가 만들어 진다."
   ]
  },
  {
   "cell_type": "code",
   "execution_count": 4,
   "metadata": {},
   "outputs": [
    {
     "data": {
      "text/plain": [
       "3"
      ]
     },
     "execution_count": 4,
     "metadata": {},
     "output_type": "execute_result"
    }
   ],
   "source": [
    "x = np.array([[[5, 78, 2, 34, 0],\n",
    "               [6, 79, 3, 35, 1],\n",
    "               [7, 80, 4, 36, 2]],\n",
    "              [[5, 78, 2, 34, 0],\n",
    "               [6, 79, 3, 35, 1],\n",
    "               [7, 80, 4, 36, 2]],\n",
    "              [[5, 78, 2, 34, 0],\n",
    "               [6, 79, 3, 35, 1],\n",
    "               [7, 80, 4, 36, 2]]])\n",
    "\n",
    "x.ndim"
   ]
  },
  {
   "cell_type": "markdown",
   "metadata": {},
   "source": [
    "<br>"
   ]
  },
  {
   "cell_type": "markdown",
   "metadata": {},
   "source": [
    "**4D 텐서**\n",
    "\n",
    "- 3D 텐서들을 하나의 배열로 합치면 4D 텐서가 된다."
   ]
  },
  {
   "cell_type": "markdown",
   "metadata": {},
   "source": [
    "<Br>"
   ]
  },
  {
   "cell_type": "markdown",
   "metadata": {},
   "source": [
    "### 2.2.5 핵심 속성\n",
    "\n",
    "- 텐서는 3개의 핵심 속성으로 정의된다.\n",
    "\n",
    "1. **축의 개수(랭크)**\n",
    "  - ex) 3D 텐서 : 3개의 축이 있음\n",
    "  - ex) 행렬(2D 텐서) : 2개의 축이 있음\n",
    "  - 넘파이 라이브러리에서는 `ndim` 속성에 저장되어 있음  \n",
    "  \n",
    "  \n",
    "2. **크기(shape)**\n",
    "  - 텐서의 각 축을 따라 얼마나 많은 차원이 있는 지를 나타낸 파이썬의 튜플(tuple)\n",
    "  - ex) 행렬(2D 텐서)의 크기 : (3, 5)\n",
    "  - ex) 3D 텐서의 크기 : (3, 3, 5)\n",
    "  - ex) 벡터(1D 텐서)의 크기 : (5,) (1개의 원소로 이루어진 튜플\n",
    "  - ex) 배열 스칼라(0D 텐서)의 크기 : () (크기가 없다.)\n",
    "  \n",
    "  \n",
    "3. **데이터 타입**\n",
    "  - 텐서에 포함된 데이터의 타입\n",
    "  - 넘파이에서는 `dtype`에 저장됨\n",
    "  - 텐서의 타입 종류\n",
    "    - `float32`\n",
    "    - `unit8`\n",
    "    - `float64`\n",
    "  - 텐서는 사전에 할당되어 연속된 메모리에 저장되어야 함  \n",
    "  $\\rightarrow$ 가변 길이 문자열을 지원하지 않음"
   ]
  },
  {
   "cell_type": "markdown",
   "metadata": {},
   "source": [
    "<br>"
   ]
  },
  {
   "cell_type": "markdown",
   "metadata": {},
   "source": [
    "**MNIST 예제 데이터**"
   ]
  },
  {
   "cell_type": "code",
   "execution_count": 5,
   "metadata": {},
   "outputs": [],
   "source": [
    "from keras.datasets import mnist\n",
    "\n",
    "(train_images, train_labels), (test_images, test_labels) = mnist.load_data()"
   ]
  },
  {
   "cell_type": "markdown",
   "metadata": {},
   "source": [
    "<br>"
   ]
  },
  {
   "cell_type": "markdown",
   "metadata": {},
   "source": [
    "`train_images` 배열의 **축의 개수** 확인 (`ndim` 속성 사용)"
   ]
  },
  {
   "cell_type": "code",
   "execution_count": 6,
   "metadata": {},
   "outputs": [
    {
     "name": "stdout",
     "output_type": "stream",
     "text": [
      "3\n"
     ]
    }
   ],
   "source": [
    "print(train_images.ndim)"
   ]
  },
  {
   "cell_type": "markdown",
   "metadata": {},
   "source": [
    "`train_images` 배열의 **크기** 확인 (`shape` 속성 사용)"
   ]
  },
  {
   "cell_type": "code",
   "execution_count": 7,
   "metadata": {},
   "outputs": [
    {
     "name": "stdout",
     "output_type": "stream",
     "text": [
      "(60000, 28, 28)\n"
     ]
    }
   ],
   "source": [
    "print(train_images.shape)"
   ]
  },
  {
   "cell_type": "markdown",
   "metadata": {},
   "source": [
    "`train_images` 배열의 **데이터 타입** 확인 (`dtype` 속성 사용)"
   ]
  },
  {
   "cell_type": "code",
   "execution_count": 8,
   "metadata": {},
   "outputs": [
    {
     "name": "stdout",
     "output_type": "stream",
     "text": [
      "uint8\n"
     ]
    }
   ],
   "source": [
    "print(train_images.dtype)"
   ]
  },
  {
   "cell_type": "markdown",
   "metadata": {},
   "source": [
    "<br>"
   ]
  },
  {
   "cell_type": "markdown",
   "metadata": {},
   "source": [
    "**`train_images` 배열**\n",
    "\n",
    "-  8비트 정수형 3D 텐서\n",
    "- 28x28 크기의 정수 행렬 6만 개가 있는 배열\n",
    "- 각 행렬은 하나의 흑백 이미지\n",
    "- 행렬의 각 원소는 0에서 255 사이의 값을 가진다."
   ]
  },
  {
   "cell_type": "markdown",
   "metadata": {},
   "source": [
    "<br>"
   ]
  },
  {
   "cell_type": "markdown",
   "metadata": {},
   "source": [
    "**3D 텐서 샘플 시각화**\n",
    "\n",
    "- 3D 텐서인 `train_images`에서 다섯 번째 샘플 시각화"
   ]
  },
  {
   "cell_type": "markdown",
   "metadata": {},
   "source": [
    "<br>"
   ]
  },
  {
   "cell_type": "markdown",
   "metadata": {},
   "source": [
    "**\\[코드 2-6\\] 다섯 번째 이미지 출력하기**"
   ]
  },
  {
   "cell_type": "code",
   "execution_count": 25,
   "metadata": {},
   "outputs": [
    {
     "name": "stdout",
     "output_type": "stream",
     "text": [
      "(28, 28)\n"
     ]
    }
   ],
   "source": [
    "digit = train_images[4]\n",
    "\n",
    "print(digit.shape)"
   ]
  },
  {
   "cell_type": "code",
   "execution_count": 13,
   "metadata": {},
   "outputs": [
    {
     "data": {
      "image/png": "[encoded data removed]",
      "text/plain": [
       "<Figure size 432x288 with 1 Axes>"
      ]
     },
     "metadata": {
      "needs_background": "light"
     },
     "output_type": "display_data"
    }
   ],
   "source": [
    "import matplotlib.pyplot as plt\n",
    "%matplotlib inline\n",
    "\n",
    "plt.imshow(digit, cmap=plt.cm.binary)\n",
    "plt.show()"
   ]
  },
  {
   "cell_type": "markdown",
   "metadata": {},
   "source": [
    "<br>"
   ]
  },
  {
   "cell_type": "markdown",
   "metadata": {},
   "source": [
    "### 2.2.6 넘파이로 텐서 조작하기\n",
    "\n",
    "**슬라이싱(slicing)**\n",
    "\n",
    "- 배열에 있는 특정 원소들을 선택하는 것\n",
    "- ex) `train_images[i]` : 첫 번째 축을 따라 특정 숫자(`i`)를 선택"
   ]
  },
  {
   "cell_type": "markdown",
   "metadata": {},
   "source": [
    "<br>"
   ]
  },
  {
   "cell_type": "markdown",
   "metadata": {},
   "source": [
    "**슬라이싱 연산 예제 1**\n",
    "\n",
    "11번째에서 101번째까지(101번째는 포함x) 숫자를 선택하여 (90, 28, 28) 크기의 배열 만들기  \n",
    "(100 - 11 + 1 = 90)"
   ]
  },
  {
   "cell_type": "code",
   "execution_count": 26,
   "metadata": {},
   "outputs": [
    {
     "name": "stdout",
     "output_type": "stream",
     "text": [
      "(89, 28, 28)\n"
     ]
    }
   ],
   "source": [
    "my_slice = train_images[11:100]\n",
    "print(my_slice.shape)"
   ]
  },
  {
   "cell_type": "markdown",
   "metadata": {},
   "source": [
    "<br>"
   ]
  },
  {
   "cell_type": "markdown",
   "metadata": {},
   "source": [
    "**슬라이싱 연산 예제 2**\n",
    "\n",
    "각 배열의 축을 따라 슬라이싱의 시작 인덱스와 마지막 인덱스를 지정\n",
    "\n",
    "- `:` : 콜론, 전체 인덱스를 선택"
   ]
  },
  {
   "cell_type": "code",
   "execution_count": 27,
   "metadata": {},
   "outputs": [
    {
     "data": {
      "text/plain": [
       "(90, 28, 28)"
      ]
     },
     "execution_count": 27,
     "metadata": {},
     "output_type": "execute_result"
    }
   ],
   "source": [
    "my_slice = train_images[10:100, :, :]\n",
    "my_slice.shape"
   ]
  },
  {
   "cell_type": "code",
   "execution_count": 37,
   "metadata": {},
   "outputs": [
    {
     "data": {
      "text/plain": [
       "(90, 28, 28)"
      ]
     },
     "execution_count": 37,
     "metadata": {},
     "output_type": "execute_result"
    }
   ],
   "source": [
    "my_slice = train_images[10:100, 0:28, 0:28]\n",
    "my_slice.shape"
   ]
  },
  {
   "cell_type": "markdown",
   "metadata": {},
   "source": [
    "<br>"
   ]
  },
  {
   "cell_type": "markdown",
   "metadata": {},
   "source": [
    "**슬라이싱 연산 예제 3**\n",
    "\n",
    "이미지의 오른쪽 아래 14x14 픽셀을 선택"
   ]
  },
  {
   "cell_type": "code",
   "execution_count": 35,
   "metadata": {},
   "outputs": [
    {
     "data": {
      "text/plain": [
       "array([[253, 252, 251,  77,   0,   0,   0,   0,   0,   0,   0,   0,   0,\n",
       "          0],\n",
       "       [227, 252, 231,   0,   0,   0,   0,   0,   0,   0,   0,   0,   0,\n",
       "          0],\n",
       "       [192, 252, 143,   0,   0,   0,   0,   0,   0,   0,   0,   0,   0,\n",
       "          0],\n",
       "       [255, 253, 109,   0,   0,   0,   0,   0,   0,   0,   0,   0,   0,\n",
       "          0],\n",
       "       [253, 252,  21,   0,   0,   0,   0,   0,   0,   0,   0,   0,   0,\n",
       "          0],\n",
       "       [253, 252,  21,   0,   0,   0,   0,   0,   0,   0,   0,   0,   0,\n",
       "          0],\n",
       "       [253, 252,  21,   0,   0,   0,   0,   0,   0,   0,   0,   0,   0,\n",
       "          0],\n",
       "       [253, 252,  21,   0,   0,   0,   0,   0,   0,   0,   0,   0,   0,\n",
       "          0],\n",
       "       [255, 253,  21,   0,   0,   0,   0,   0,   0,   0,   0,   0,   0,\n",
       "          0],\n",
       "       [218, 252,  56,   0,   0,   0,   0,   0,   0,   0,   0,   0,   0,\n",
       "          0],\n",
       "       [ 96, 252, 189,  42,   0,   0,   0,   0,   0,   0,   0,   0,   0,\n",
       "          0],\n",
       "       [ 14, 184, 252, 170,  11,   0,   0,   0,   0,   0,   0,   0,   0,\n",
       "          0],\n",
       "       [  0,  14, 147, 252,  42,   0,   0,   0,   0,   0,   0,   0,   0,\n",
       "          0],\n",
       "       [  0,   0,   0,   0,   0,   0,   0,   0,   0,   0,   0,   0,   0,\n",
       "          0]], dtype=uint8)"
      ]
     },
     "execution_count": 35,
     "metadata": {},
     "output_type": "execute_result"
    }
   ],
   "source": [
    "my_slice = train_images[:, 14:, 14:]\n",
    "my_slice[4]"
   ]
  },
  {
   "cell_type": "markdown",
   "metadata": {},
   "source": [
    "<br>"
   ]
  },
  {
   "cell_type": "markdown",
   "metadata": {},
   "source": [
    "**슬라이싱 연산 예제 4**\n",
    "\n",
    "음수 인덱스 사용\n",
    "\n",
    "- 음수 인덱스는 현재 축의 끝에서 상태적인 위치를 나타냄\n",
    "\n",
    "정중앙에 위치한 14x14 픽셀 조각을 이미지에서 잘라내기"
   ]
  },
  {
   "cell_type": "code",
   "execution_count": 34,
   "metadata": {},
   "outputs": [
    {
     "data": {
      "text/plain": [
       "array([[  0,   0,   0,   0,   0,  55, 148, 210, 253, 253, 113,  87, 148,\n",
       "         55],\n",
       "       [  0,   0,   0,   0,  87, 232, 252, 253, 189, 210, 252, 252, 253,\n",
       "        168],\n",
       "       [  0,   0,   4,  57, 242, 252, 190,  65,   5,  12, 182, 252, 253,\n",
       "        116],\n",
       "       [  0,   0,  96, 252, 252, 183,  14,   0,   0,  92, 252, 252, 225,\n",
       "         21],\n",
       "       [  0, 132, 253, 252, 146,  14,   0,   0,   0, 215, 252, 252,  79,\n",
       "          0],\n",
       "       [126, 253, 247, 176,   9,   0,   0,   8,  78, 245, 253, 129,   0,\n",
       "          0],\n",
       "       [232, 252, 176,   0,   0,   0,  36, 201, 252, 252, 169,  11,   0,\n",
       "          0],\n",
       "       [252, 252,  30,  22, 119, 197, 241, 253, 252, 251,  77,   0,   0,\n",
       "          0],\n",
       "       [231, 252, 253, 252, 252, 252, 226, 227, 252, 231,   0,   0,   0,\n",
       "          0],\n",
       "       [ 55, 235, 253, 217, 138,  42,  24, 192, 252, 143,   0,   0,   0,\n",
       "          0],\n",
       "       [  0,   0,   0,   0,   0,   0,  62, 255, 253, 109,   0,   0,   0,\n",
       "          0],\n",
       "       [  0,   0,   0,   0,   0,   0,  71, 253, 252,  21,   0,   0,   0,\n",
       "          0],\n",
       "       [  0,   0,   0,   0,   0,   0,   0, 253, 252,  21,   0,   0,   0,\n",
       "          0],\n",
       "       [  0,   0,   0,   0,   0,   0,  71, 253, 252,  21,   0,   0,   0,\n",
       "          0]], dtype=uint8)"
      ]
     },
     "execution_count": 34,
     "metadata": {},
     "output_type": "execute_result"
    }
   ],
   "source": [
    "my_slice = train_images[:, 7:-7, 7:-7]\n",
    "my_slice[4]"
   ]
  },
  {
   "cell_type": "markdown",
   "metadata": {},
   "source": [
    "<br>"
   ]
  },
  {
   "cell_type": "markdown",
   "metadata": {},
   "source": [
    "### 2.2.7 배치 데이터\n",
    "\n",
    "- 일반적으로 딥러닝에서 사용하는 모든 데이터 텐서의 첫 번째 축(0 번째 축)은 **샘플 축(sample axis)**이다.  \n",
    "(**샘플 차원(sample dimension)**이라고도 부름)  \n",
    "  \n",
    "  \n",
    "- ex) MNIST 예제에서는 숫자 이미지가 샘플  \n",
    "  \n",
    "  \n",
    "- 딥러닝 모델은 한 번에 전체 데이터셋을 처리하지 않음\n",
    "- 그 대신 데이터를 작은 **배치(batch)**로 나눔  \n",
    "  \n",
    "  \n",
    "- MNIST 숫자 데이터에서 크기가 128인 배치 하나는 다음과 같다.\n",
    "\n",
    "```python\n",
    "batch = train_images[:128]\n",
    "```  \n",
    "  \n",
    "  \n",
    "- 그 다음 배치는 다음과 같다.\n",
    "\n",
    "```python\n",
    "batch = train_images[128:256]\n",
    "```  \n",
    "  \n",
    "  \n",
    "- 그리고 n번째 배치는 다음과 같다.\n",
    "\n",
    "```python\n",
    "batch = train_images[128 * n : 128 * (n+1)]\n",
    "```  \n",
    "  \n",
    "  \n",
    "- 이런 배치 데이터를 다룰 때는 첫 번째 축(0번 축)을 **배치 축(batch axis)** 또는 **배치 차원(batch dimension)**이라고 부른다."
   ]
  },
  {
   "cell_type": "markdown",
   "metadata": {},
   "source": [
    "<br>"
   ]
  },
  {
   "cell_type": "markdown",
   "metadata": {},
   "source": [
    "### 2.2.8 텐서의 실제 사례\n",
    "\n",
    "**텐서의 몇 가지 예**\n",
    "\n",
    "1. **벡터 데이터**\n",
    "  - 2D 텐서\n",
    "  - 크기 : `(samples, features)`\n",
    "  \n",
    "  \n",
    "2. **시계열 데이터 또는 시퀀스(sequence) 데이터**\n",
    "  - 3D 텐서\n",
    "  - 크기 : `(samples, timesteps, features)`\n",
    "  \n",
    "  \n",
    "3. **이미지**\n",
    "  - 4D 텐서\n",
    "  - 크기 : `(samples, height, width, channels)` or `(samples, channels, height, width)`  \n",
    "  \n",
    "  \n",
    "4. **동영상**\n",
    "  - 5D 텐서\n",
    "  - 크기 : `(samples, frames, height, width, channels)` 또는 `(samples, frames, channels, height, width)`"
   ]
  },
  {
   "cell_type": "markdown",
   "metadata": {},
   "source": [
    "<br>"
   ]
  },
  {
   "cell_type": "markdown",
   "metadata": {},
   "source": [
    "### 2.2.9 벡터 데이터\n",
    "\n",
    "- 하나의 데이터 포인트가 벡터로 인코딩될 수 있으므로 배치 데이터는 2D 텐서로 인코딩될 것 (즉, 벡터의 배열)\n",
    "- 여기서 첫 번째 축은 **샘플 축**이고, 두 번째 축은 **특성 축(feature axis)**이다."
   ]
  },
  {
   "cell_type": "markdown",
   "metadata": {},
   "source": [
    "<br>"
   ]
  },
  {
   "cell_type": "markdown",
   "metadata": {},
   "source": [
    "**벡터 데이터의 예**\n",
    "\n",
    "1. 사람의 나이, 우편 번호, 소득으로 구성된 인구 통계 데이터\n",
    "  - 각 사람은 3개의 값을 가진 벡터로 구성\n",
    "  - 10만 명이 포함된 전체 데이터셋은 `(100000, 3)` 크기의 텐서에 저장됨  \n",
    "  \n",
    "  \n",
    "2. 공통 단어 2만 개로 만든 사전에서 각 단어가 등장한 횟수로 표현된 텍스트 문서 데이터셋\n",
    "  - 각 문서는 2만 개의 원소를 가진 벡터로 인코딩될 수 있음\n",
    "  - 500개의 문서로 이루어진 전체 데이터셋은 `(500, 20000)` 크기의 텐서에 저장됨"
   ]
  },
  {
   "cell_type": "markdown",
   "metadata": {},
   "source": [
    "<br>"
   ]
  },
  {
   "cell_type": "markdown",
   "metadata": {},
   "source": [
    "### 2.2.10 시계열 데이터 또는 시퀀스 데이터\n",
    "\n",
    "- 데이터에서 **시간**(또는 연속된 순서)이 중요할 때는 시간 축을 포함하여 3D 텐서로 저장됨\n",
    "- 각 샘플은 벡터(2D 텐서)의 스퀀스로 인코딩됨\n",
    "- 배치 데이터는 3D 텐서로 인코딩될 것\n",
    "\n",
    "<img src=\"img/img_2-3.jpg\" width=\"300px\" />\n",
    "\n",
    "- 관례적으로 시간 축은 항상 **두 번째 축**이다."
   ]
  },
  {
   "cell_type": "markdown",
   "metadata": {},
   "source": [
    "<br>"
   ]
  },
  {
   "cell_type": "markdown",
   "metadata": {},
   "source": [
    "**시계열(or 시퀀스) 데이터의 예**\n",
    "\n",
    "1. **주식 가격 데이터셋**\n",
    "  - 1분 마다 현재 주식 가격, 지난 1분 동안에 최고 가격과 최소 가격을 저장  \n",
    "  - 1분 마다 데이터는 3D 벡터로 인코딩 됨\n",
    "  - 하루 동안의 거래는 `(390, 3)` 크기의 2D 텐서로 인코딩 됨 (하루의 거래시간 = 390분)\n",
    "  - 250일치의 데이터는 `(250, 390, 3)` 크기의 3D 텐서로 저장됨\n",
    "  - 1일치 데이터가 하나의 샘플이 된다.  \n",
    "  \n",
    "  \n",
    "2. **트윗 데이터셋**\n",
    "  - 각 트윗은 128개의 알파벳으로 구성된 280개의 문자 시퀀스이다.\n",
    "  - 여기에서는 각 문자가 128개의 크기인 이진 벡터로 인코딩될 수 있다.\n",
    "  - 그러면 각 트윗은 `(280, 128)` 크기의 2D 텐서로 인코딩될 수 있음\n",
    "  - 100만 개의 트윗으로 구성된 데이터셋은 `(10000, 280, 128)` 크기의 텐서에 저장됨"
   ]
  },
  {
   "cell_type": "markdown",
   "metadata": {},
   "source": [
    "<br>"
   ]
  },
  {
   "cell_type": "markdown",
   "metadata": {},
   "source": [
    "### 2.2.11 이미지 데이터\n",
    "\n",
    "- 이미지는 높이, 너비, 컬러 채널의 3차원으로 이루어짐\n",
    "- 흑백 이미지는 하나의 컬러 채널만 가지고 있어 2D 텐서에 저장될 수 있지만 관례상 이미지 텐서는 항상 2D로 저장됨  \n",
    "  \n",
    "  \n",
    "- 256x256 크기의 흑백 이미지에 대한 128개의 배치  \n",
    "$\\rightarrow$ `(128, 256, 256, 1)` 크기의 텐서에 저장될 수 있다.  \n",
    "  \n",
    "  \n",
    "- 컬러 이미지에 대한 128개의 배치  \n",
    "$\\rightarrow$ `(128, 256, 256, 3)` 크기의 텐서에 저장됨\n",
    "\n",
    "<img src=\"img/img_2-4.jpg\" width=\"300px\" />"
   ]
  },
  {
   "cell_type": "markdown",
   "metadata": {},
   "source": [
    "<br>"
   ]
  },
  {
   "cell_type": "markdown",
   "metadata": {},
   "source": [
    "### 2.2.12 비디오 데이터\n",
    "\n",
    "생략"
   ]
  }
 ],
 "metadata": {
  "kernelspec": {
   "display_name": "Python 3",
   "language": "python",
   "name": "python3"
  },
  "language_info": {
   "codemirror_mode": {
    "name": "ipython",
    "version": 3
   },
   "file_extension": ".py",
   "mimetype": "text/x-python",
   "name": "python",
   "nbconvert_exporter": "python",
   "pygments_lexer": "ipython3",
   "version": "3.6.9"
  }
 },
 "nbformat": 4,
 "nbformat_minor": 4
}
